{
 "cells": [
  {
   "cell_type": "markdown",
   "metadata": {
    "collapsed": true
   },
   "source": [
    "### Importing a text from the web:"
   ]
  },
  {
   "cell_type": "code",
   "execution_count": 3,
   "metadata": {
    "collapsed": true
   },
   "outputs": [],
   "source": [
    "import requests\n",
    "\n",
    "try:\n",
    "    with open('looking_glass.txt') as f:\n",
    "        text = f.read()\n",
    "except IOError:\n",
    "    url = 'http://www.gutenberg.org/cache/epub/12/pg12.txt'\n",
    "    res = requests.get(url)\n",
    "    text = res.text\n",
    "    with open('looking_glass.txt', 'w') as f:\n",
    "        f.write(str(text))"
   ]
  },
  {
   "cell_type": "markdown",
   "metadata": {},
   "source": [
    "## Slice to get 'Jabberwocky'"
   ]
  },
  {
   "cell_type": "code",
   "execution_count": 4,
   "metadata": {},
   "outputs": [
    {
     "data": {
      "text/plain": [
       "\"JABBERWOCKY\\n\\n     'Twas brillig, and the slithy toves\\n      Did gyre and gimble in the wabe;\\n     All mimsy were the borogoves,\\n      And the mome raths outgrabe.\\n\\n     'Beware the Jabberwock, my son!\\n      The jaws that bite, the claws that catch!\\n     Beware the Jubjub bird, and shun\\n      The frumious Bandersnatch!'\\n\\n     He took his vorpal sword in hand:\\n      Long time the manxome foe he sought--\\n     So rested he by the Tumtum tree,\\n      And stood awhile in thought.\\n\\n     And as in uffish thought he stood,\\n      The Jabberwock, with eyes of flame,\\n     Came whiffling through the tulgey wood,\\n      And burbled as it came!\\n\\n     One, two! One, two! And through and through\\n      The vorpal blade went snicker-snack!\\n     He left it dead, and with its head\\n      He went galumphing back.\\n\\n     'And hast thou slain the Jabberwock?\\n      Come to my arms, my beamish boy!\\n     O frabjous day! Callooh! Callay!'\\n      He chortled in his joy.\\n\\n     'Twas brillig, and the slithy toves\\n      Did gyre and gimble in the wabe;\\n     All mimsy were the borogoves,\\n      And the mome raths outgrabe.\\n\\n\\n'It seems very pretty,' she said when she had finished it, 'but it's\\nRATHER hard to understand!' (You see she didn't like to confess, even\\nto herself, that she couldn't make it out at all.) 'Somehow it seems\\nto fill my head with ideas--only I don't exactly know what they are!\\nHowever, SOMEBODY killed SOMETHING: that's clear, at any rate--'\\n\\n'But oh!' thought Alice, suddenly jumping up, 'if I don't make haste I\\nshall have to go back through the Looking-glass, before I've seen what\\nthe rest of the house is like! Let's have a look at the garden first!'\\nShe was out of the room in a moment, and ran down stairs--or, at least,\\nit wasn't exactly running, but a new invention of hers for getting down\\nstairs quickly and easily, as Alice said to herself. She just kept the\\ntips of her fingers on the hand-rail, and floated gently down without\\neven touching the stairs with her feet; then she floate\""
      ]
     },
     "execution_count": 4,
     "metadata": {},
     "output_type": "execute_result"
    }
   ],
   "source": [
    "start = text.find('JABBERWOCKY')\n",
    "text[start:start+2000]"
   ]
  },
  {
   "cell_type": "code",
   "execution_count": 5,
   "metadata": {
    "collapsed": true
   },
   "outputs": [],
   "source": [
    "# ending the text\n",
    "end = text.find('It seems very pretty', start)"
   ]
  },
  {
   "cell_type": "code",
   "execution_count": 6,
   "metadata": {},
   "outputs": [
    {
     "data": {
      "text/plain": [
       "\"JABBERWOCKY\\n\\n     'Twas brillig, and the slithy toves\\n      Did gyre and gimble in the wabe;\\n     All mimsy were the borogoves,\\n      And the mome raths outgrabe.\\n\\n     'Beware the Jabberwock, my son!\\n      The jaws that bite, the claws that catch!\\n     Beware the Jubjub bird, and shun\\n      The frumious Bandersnatch!'\\n\\n     He took his vorpal sword in hand:\\n      Long time the manxome foe he sought--\\n     So rested he by the Tumtum tree,\\n      And stood awhile in thought.\\n\\n     And as in uffish thought he stood,\\n      The Jabberwock, with eyes of flame,\\n     Came whiffling through the tulgey wood,\\n      And burbled as it came!\\n\\n     One, two! One, two! And through and through\\n      The vorpal blade went snicker-snack!\\n     He left it dead, and with its head\\n      He went galumphing back.\\n\\n     'And hast thou slain the Jabberwock?\\n      Come to my arms, my beamish boy!\\n     O frabjous day! Callooh! Callay!'\\n      He chortled in his joy.\\n\\n     'Twas brillig, and the slithy toves\\n      Did gyre and gimble in the wabe;\\n     All mimsy were the borogoves,\\n      And the mome raths outgrabe.\\n\\n\\n'\""
      ]
     },
     "execution_count": 6,
     "metadata": {},
     "output_type": "execute_result"
    }
   ],
   "source": [
    "# extracting the main poem\n",
    "poem = text[start:end]\n",
    "poem"
   ]
  },
  {
   "cell_type": "code",
   "execution_count": 7,
   "metadata": {
    "scrolled": true
   },
   "outputs": [
    {
     "name": "stdout",
     "output_type": "stream",
     "text": [
      "JABBERWOCKY\n",
      "\n",
      "     'Twas brillig, and the slithy toves\n",
      "      Did gyre and gimble in the wabe;\n",
      "     All mimsy were the borogoves,\n",
      "      And the mome raths outgrabe.\n",
      "\n",
      "     'Beware the Jabberwock, my son!\n",
      "      The jaws that bite, the claws that catch!\n",
      "     Beware the Jubjub bird, and shun\n",
      "      The frumious Bandersnatch!'\n",
      "\n",
      "     He took his vorpal sword in hand:\n",
      "      Long time the manxome foe he sought--\n",
      "     So rested he by the Tumtum tree,\n",
      "      And stood awhile in thought.\n",
      "\n",
      "     And as in uffish thought he stood,\n",
      "      The Jabberwock, with eyes of flame,\n",
      "     Came whiffling through the tulgey wood,\n",
      "      And burbled as it came!\n",
      "\n",
      "     One, two! One, two! And through and through\n",
      "      The vorpal blade went snicker-snack!\n",
      "     He left it dead, and with its head\n",
      "      He went galumphing back.\n",
      "\n",
      "     'And hast thou slain the Jabberwock?\n",
      "      Come to my arms, my beamish boy!\n",
      "     O frabjous day! Callooh! Callay!'\n",
      "      He chortled in his joy.\n",
      "\n",
      "     'Twas brillig, and the slithy toves\n",
      "      Did gyre and gimble in the wabe;\n",
      "     All mimsy were the borogoves,\n",
      "      And the mome raths outgrabe.\n",
      "\n",
      "\n",
      "'\n"
     ]
    }
   ],
   "source": [
    "#printing the \"poem\" excludes the newline character\n",
    "print(poem)"
   ]
  },
  {
   "cell_type": "code",
   "execution_count": 8,
   "metadata": {
    "scrolled": true
   },
   "outputs": [
    {
     "name": "stdout",
     "output_type": "stream",
     "text": [
      "Jabberwocky\n",
      "\n",
      "     'Twas Brillig, And The Slithy Toves\n",
      "      Did Gyre And Gimble In The Wabe;\n",
      "     All Mimsy Were The Borogoves,\n",
      "      And The Mome Raths Outgrabe.\n",
      "\n",
      "     'Beware The Jabberwock, My Son!\n",
      "      The Jaws That Bite, The Claws That Catch!\n",
      "     Beware The Jubjub Bird, And Shun\n",
      "      The Frumious Bandersnatch!'\n",
      "\n",
      "     He Took His Vorpal Sword In Hand:\n",
      "      Long Time The Manxome Foe He Sought--\n",
      "     So Rested He By The Tumtum Tree,\n",
      "      And Stood Awhile In Thought.\n",
      "\n",
      "     And As In Uffish Thought He Stood,\n",
      "      The Jabberwock, With Eyes Of Flame,\n",
      "     Came Whiffling Through The Tulgey Wood,\n",
      "      And Burbled As It Came!\n",
      "\n",
      "     One, Two! One, Two! And Through And Through\n",
      "      The Vorpal Blade Went Snicker-Snack!\n",
      "     He Left It Dead, And With Its Head\n",
      "      He Went Galumphing Back.\n",
      "\n",
      "     'And Hast Thou Slain The Jabberwock?\n",
      "      Come To My Arms, My Beamish Boy!\n",
      "     O Frabjous Day! Callooh! Callay!'\n",
      "      He Chortled In His Joy.\n",
      "\n",
      "     'Twas Brillig, And The Slithy Toves\n",
      "      Did Gyre And Gimble In The Wabe;\n",
      "     All Mimsy Were The Borogoves,\n",
      "      And The Mome Raths Outgrabe.\n",
      "\n",
      "\n",
      "'\n"
     ]
    }
   ],
   "source": [
    "print(poem.title())"
   ]
  },
  {
   "cell_type": "code",
   "execution_count": 9,
   "metadata": {},
   "outputs": [
    {
     "data": {
      "text/plain": [
       "15"
      ]
     },
     "execution_count": 9,
     "metadata": {},
     "output_type": "execute_result"
    }
   ],
   "source": [
    "poem.count('the') # counting for a word from a text"
   ]
  },
  {
   "cell_type": "code",
   "execution_count": 10,
   "metadata": {
    "scrolled": true
   },
   "outputs": [
    {
     "name": "stdout",
     "output_type": "stream",
     "text": [
      "JABBERWOCKY\n",
      "\n",
      "     'Twas brillig, and XXX slithy toves\n",
      "      Did gyre and gimble in XXX wabe;\n",
      "     All mimsy were XXX borogoves,\n",
      "      And XXX mome raths outgrabe.\n",
      "\n",
      "     'Beware XXX Jabberwock, my son!\n",
      "      The jaws that bite, XXX claws that catch!\n",
      "     Beware XXX Jubjub bird, and shun\n",
      "      The frumious Bandersnatch!'\n",
      "\n",
      "     He took his vorpal sword in hand:\n",
      "      Long time XXX manxome foe he sought--\n",
      "     So rested he by XXX Tumtum tree,\n",
      "      And stood awhile in thought.\n",
      "\n",
      "     And as in uffish thought he stood,\n",
      "      The Jabberwock, with eyes of flame,\n",
      "     Came whiffling through XXX tulgey wood,\n",
      "      And burbled as it came!\n",
      "\n",
      "     One, two! One, two! And through and through\n",
      "      The vorpal blade went snicker-snack!\n",
      "     He left it dead, and with its head\n",
      "      He went galumphing back.\n",
      "\n",
      "     'And hast thou slain XXX Jabberwock?\n",
      "      Come to my arms, my beamish boy!\n",
      "     O frabjous day! Callooh! Callay!'\n",
      "      He chortled in his joy.\n",
      "\n",
      "     'Twas brillig, and XXX slithy toves\n",
      "      Did gyre and gimble in XXX wabe;\n",
      "     All mimsy were XXX borogoves,\n",
      "      And XXX mome raths outgrabe.\n",
      "\n",
      "\n",
      "'\n"
     ]
    }
   ],
   "source": [
    "print(poem.replace('the', 'XXX'))  # replacing a certain word with another"
   ]
  },
  {
   "cell_type": "markdown",
   "metadata": {},
   "source": [
    "## Finding palindromic words in the text"
   ]
  },
  {
   "cell_type": "code",
   "execution_count": 11,
   "metadata": {
    "collapsed": true,
    "scrolled": true
   },
   "outputs": [],
   "source": [
    "# converting all to lowercase\n",
    "poem = poem.lower()\n",
    "#print(poem)"
   ]
  },
  {
   "cell_type": "code",
   "execution_count": 12,
   "metadata": {},
   "outputs": [
    {
     "data": {
      "text/plain": [
       "'!\"#$%&\\'()*+,-./:;<=>?@[\\\\]^_`{|}~'"
      ]
     },
     "execution_count": 12,
     "metadata": {},
     "output_type": "execute_result"
    }
   ],
   "source": [
    "import string\n",
    "string.punctuation"
   ]
  },
  {
   "cell_type": "code",
   "execution_count": 13,
   "metadata": {
    "scrolled": true
   },
   "outputs": [
    {
     "name": "stdout",
     "output_type": "stream",
     "text": [
      "jabberwocky\n",
      "\n",
      "     twas brillig and the slithy toves\n",
      "      did gyre and gimble in the wabe\n",
      "     all mimsy were the borogoves\n",
      "      and the mome raths outgrabe\n",
      "\n",
      "     beware the jabberwock my son\n",
      "      the jaws that bite the claws that catch\n",
      "     beware the jubjub bird and shun\n",
      "      the frumious bandersnatch\n",
      "\n",
      "     he took his vorpal sword in hand\n",
      "      long time the manxome foe he sought\n",
      "     so rested he by the tumtum tree\n",
      "      and stood awhile in thought\n",
      "\n",
      "     and as in uffish thought he stood\n",
      "      the jabberwock with eyes of flame\n",
      "     came whiffling through the tulgey wood\n",
      "      and burbled as it came\n",
      "\n",
      "     one two one two and through and through\n",
      "      the vorpal blade went snickersnack\n",
      "     he left it dead and with its head\n",
      "      he went galumphing back\n",
      "\n",
      "     and hast thou slain the jabberwock\n",
      "      come to my arms my beamish boy\n",
      "     o frabjous day callooh callay\n",
      "      he chortled in his joy\n",
      "\n",
      "     twas brillig and the slithy toves\n",
      "      did gyre and gimble in the wabe\n",
      "     all mimsy were the borogoves\n",
      "      and the mome raths outgrabe\n",
      "\n",
      "\n",
      "\n"
     ]
    }
   ],
   "source": [
    "#removing all the punctuations from the text\n",
    "poem = poem.translate(dict.fromkeys(map(ord, string.punctuation)))\n",
    "print(poem)"
   ]
  },
  {
   "cell_type": "code",
   "execution_count": 14,
   "metadata": {
    "scrolled": false
   },
   "outputs": [
    {
     "data": {
      "text/plain": [
       "['jabberwocky',\n",
       " 'twas',\n",
       " 'brillig',\n",
       " 'and',\n",
       " 'the',\n",
       " 'slithy',\n",
       " 'toves',\n",
       " 'did',\n",
       " 'gyre',\n",
       " 'and']"
      ]
     },
     "execution_count": 14,
     "metadata": {},
     "output_type": "execute_result"
    }
   ],
   "source": [
    "# splitting into words\n",
    "words = poem.split()\n",
    "words[:10] # printing just first 10 words"
   ]
  },
  {
   "cell_type": "code",
   "execution_count": 15,
   "metadata": {},
   "outputs": [
    {
     "data": {
      "text/plain": [
       "{'did', 'o'}"
      ]
     },
     "execution_count": 15,
     "metadata": {},
     "output_type": "execute_result"
    }
   ],
   "source": [
    "# defining a function to detect palindrom words\n",
    "def palin(word):\n",
    "    return word==word[::-1]\n",
    "\n",
    "{word for word in words if palin(word)} #print only those words fromt he text which are palindrome"
   ]
  },
  {
   "cell_type": "markdown",
   "metadata": {},
   "source": [
    "## Top 10 most frequent words"
   ]
  },
  {
   "cell_type": "code",
   "execution_count": 16,
   "metadata": {
    "collapsed": true
   },
   "outputs": [],
   "source": [
    "import collections"
   ]
  },
  {
   "cell_type": "code",
   "execution_count": 17,
   "metadata": {},
   "outputs": [
    {
     "data": {
      "text/plain": [
       "[('the', 19),\n",
       " ('and', 14),\n",
       " ('he', 7),\n",
       " ('in', 6),\n",
       " ('jabberwock', 3),\n",
       " ('my', 3),\n",
       " ('through', 3),\n",
       " ('twas', 2),\n",
       " ('brillig', 2),\n",
       " ('slithy', 2)]"
      ]
     },
     "execution_count": 17,
     "metadata": {},
     "output_type": "execute_result"
    }
   ],
   "source": [
    "poem_counter = collections.Counter(words)\n",
    "poem_counter.most_common(10)"
   ]
  },
  {
   "cell_type": "markdown",
   "metadata": {},
   "source": [
    "## Words that appear exactly twice"
   ]
  },
  {
   "cell_type": "code",
   "execution_count": 18,
   "metadata": {
    "scrolled": true
   },
   "outputs": [
    {
     "data": {
      "text/plain": [
       "[('twas', 2),\n",
       " ('brillig', 2),\n",
       " ('slithy', 2),\n",
       " ('toves', 2),\n",
       " ('did', 2),\n",
       " ('gyre', 2),\n",
       " ('gimble', 2),\n",
       " ('wabe', 2),\n",
       " ('all', 2),\n",
       " ('mimsy', 2),\n",
       " ('were', 2),\n",
       " ('borogoves', 2),\n",
       " ('mome', 2),\n",
       " ('raths', 2),\n",
       " ('outgrabe', 2),\n",
       " ('beware', 2),\n",
       " ('that', 2),\n",
       " ('his', 2),\n",
       " ('vorpal', 2),\n",
       " ('stood', 2),\n",
       " ('thought', 2),\n",
       " ('as', 2),\n",
       " ('with', 2),\n",
       " ('came', 2),\n",
       " ('it', 2),\n",
       " ('one', 2),\n",
       " ('two', 2),\n",
       " ('went', 2)]"
      ]
     },
     "execution_count": 18,
     "metadata": {},
     "output_type": "execute_result"
    }
   ],
   "source": [
    "[(k, v) for (k, v) in poem_counter.items() if v==2]"
   ]
  },
  {
   "cell_type": "markdown",
   "metadata": {},
   "source": [
    "## Trigrams"
   ]
  },
  {
   "cell_type": "code",
   "execution_count": 19,
   "metadata": {
    "scrolled": true
   },
   "outputs": [
    {
     "data": {
      "text/plain": [
       "[('jabberwocky', 'twas', 'brillig'),\n",
       " ('twas', 'brillig', 'and'),\n",
       " ('brillig', 'and', 'the'),\n",
       " ('and', 'the', 'slithy'),\n",
       " ('the', 'slithy', 'toves'),\n",
       " ('slithy', 'toves', 'did'),\n",
       " ('toves', 'did', 'gyre'),\n",
       " ('did', 'gyre', 'and'),\n",
       " ('gyre', 'and', 'gimble'),\n",
       " ('and', 'gimble', 'in')]"
      ]
     },
     "execution_count": 19,
     "metadata": {},
     "output_type": "execute_result"
    }
   ],
   "source": [
    "# All possible sequences of 3 words in the poem. without function .... print 10 such sequences\n",
    "list(zip(words[:], words[1:], words[2:]))[:10]"
   ]
  },
  {
   "cell_type": "code",
   "execution_count": 20,
   "metadata": {},
   "outputs": [
    {
     "data": {
      "text/plain": [
       "[('jabberwocky', 'twas', 'brillig'),\n",
       " ('twas', 'brillig', 'and'),\n",
       " ('brillig', 'and', 'the'),\n",
       " ('and', 'the', 'slithy'),\n",
       " ('the', 'slithy', 'toves'),\n",
       " ('slithy', 'toves', 'did'),\n",
       " ('toves', 'did', 'gyre'),\n",
       " ('did', 'gyre', 'and'),\n",
       " ('gyre', 'and', 'gimble'),\n",
       " ('and', 'gimble', 'in')]"
      ]
     },
     "execution_count": 20,
     "metadata": {},
     "output_type": "execute_result"
    }
   ],
   "source": [
    "# All possible sequences of 3 words in the poem. with function .... print 10 such sequences\n",
    "import itertools as it\n",
    "def window(x, n):\n",
    "    \"\"\"Sliding widnow of size n from iterable x.\"\"\"\n",
    "    s = (it.islice(x, i, None) for i in range(n))\n",
    "    return zip(*s)\n",
    "\n",
    "list(window(words, 3))[:10]"
   ]
  },
  {
   "cell_type": "markdown",
   "metadata": {},
   "source": [
    "## Find words in poem that are over-represented"
   ]
  },
  {
   "cell_type": "code",
   "execution_count": 21,
   "metadata": {
    "collapsed": true
   },
   "outputs": [],
   "source": [
    "book = text\n",
    "\n",
    "book = book.lower().translate(dict.fromkeys(map(ord, string.punctuation)))\n",
    "book_counter = collections.Counter(book.split())"
   ]
  },
  {
   "cell_type": "code",
   "execution_count": 22,
   "metadata": {
    "collapsed": true
   },
   "outputs": [],
   "source": [
    "# frequent words from the poem , stored in \"book\", as a dictionary\n",
    "n = sum(book_counter.values())\n",
    "book_freqs = {k: v/n for k, v in book_counter.items()}"
   ]
  },
  {
   "cell_type": "code",
   "execution_count": 23,
   "metadata": {
    "collapsed": true
   },
   "outputs": [],
   "source": [
    "#  frequent words from the poem ,using the book dictionary,  as a list\n",
    "n = sum(poem_counter.values())\n",
    "stats = [(k, v, book_freqs.get(k,0)*n) for k, v in poem_counter.items()]"
   ]
  },
  {
   "cell_type": "code",
   "execution_count": 24,
   "metadata": {},
   "outputs": [
    {
     "data": {
      "text/html": [
       "<div>\n",
       "<style>\n",
       "    .dataframe thead tr:only-child th {\n",
       "        text-align: right;\n",
       "    }\n",
       "\n",
       "    .dataframe thead th {\n",
       "        text-align: left;\n",
       "    }\n",
       "\n",
       "    .dataframe tbody tr th {\n",
       "        vertical-align: top;\n",
       "    }\n",
       "</style>\n",
       "<table border=\"1\" class=\"dataframe\">\n",
       "  <thead>\n",
       "    <tr style=\"text-align: right;\">\n",
       "      <th></th>\n",
       "      <th>word</th>\n",
       "      <th>observed</th>\n",
       "      <th>expected</th>\n",
       "      <th>score</th>\n",
       "    </tr>\n",
       "  </thead>\n",
       "  <tbody>\n",
       "    <tr>\n",
       "      <th>20</th>\n",
       "      <td>jabberwock</td>\n",
       "      <td>3</td>\n",
       "      <td>0.01557</td>\n",
       "      <td>572.045510</td>\n",
       "    </tr>\n",
       "    <tr>\n",
       "      <th>19</th>\n",
       "      <td>beware</td>\n",
       "      <td>2</td>\n",
       "      <td>0.01038</td>\n",
       "      <td>381.363673</td>\n",
       "    </tr>\n",
       "    <tr>\n",
       "      <th>36</th>\n",
       "      <td>vorpal</td>\n",
       "      <td>2</td>\n",
       "      <td>0.01038</td>\n",
       "      <td>381.363673</td>\n",
       "    </tr>\n",
       "    <tr>\n",
       "      <th>1</th>\n",
       "      <td>twas</td>\n",
       "      <td>2</td>\n",
       "      <td>0.01557</td>\n",
       "      <td>252.917766</td>\n",
       "    </tr>\n",
       "    <tr>\n",
       "      <th>15</th>\n",
       "      <td>borogoves</td>\n",
       "      <td>2</td>\n",
       "      <td>0.01557</td>\n",
       "      <td>252.917766</td>\n",
       "    </tr>\n",
       "    <tr>\n",
       "      <th>90</th>\n",
       "      <td>joy</td>\n",
       "      <td>1</td>\n",
       "      <td>0.00519</td>\n",
       "      <td>190.681837</td>\n",
       "    </tr>\n",
       "    <tr>\n",
       "      <th>31</th>\n",
       "      <td>frumious</td>\n",
       "      <td>1</td>\n",
       "      <td>0.00519</td>\n",
       "      <td>190.681837</td>\n",
       "    </tr>\n",
       "    <tr>\n",
       "      <th>74</th>\n",
       "      <td>galumphing</td>\n",
       "      <td>1</td>\n",
       "      <td>0.00519</td>\n",
       "      <td>190.681837</td>\n",
       "    </tr>\n",
       "    <tr>\n",
       "      <th>26</th>\n",
       "      <td>claws</td>\n",
       "      <td>1</td>\n",
       "      <td>0.00519</td>\n",
       "      <td>190.681837</td>\n",
       "    </tr>\n",
       "    <tr>\n",
       "      <th>69</th>\n",
       "      <td>snickersnack</td>\n",
       "      <td>1</td>\n",
       "      <td>0.00519</td>\n",
       "      <td>190.681837</td>\n",
       "    </tr>\n",
       "  </tbody>\n",
       "</table>\n",
       "</div>"
      ],
      "text/plain": [
       "            word  observed  expected       score\n",
       "20    jabberwock         3   0.01557  572.045510\n",
       "19        beware         2   0.01038  381.363673\n",
       "36        vorpal         2   0.01038  381.363673\n",
       "1           twas         2   0.01557  252.917766\n",
       "15     borogoves         2   0.01557  252.917766\n",
       "90           joy         1   0.00519  190.681837\n",
       "31      frumious         1   0.00519  190.681837\n",
       "74    galumphing         1   0.00519  190.681837\n",
       "26         claws         1   0.00519  190.681837\n",
       "69  snickersnack         1   0.00519  190.681837"
      ]
     },
     "execution_count": 24,
     "metadata": {},
     "output_type": "execute_result"
    }
   ],
   "source": [
    "# using dataframe finding our words\n",
    "\n",
    "from pandas import DataFrame\n",
    "# creating a datatable/dataframe\n",
    "df = DataFrame(stats, columns = ['word', 'observed', 'expected'])\n",
    "# creating a new column with a defined calculation\n",
    "df['score'] = (df.observed-df.expected)**2/df.expected\n",
    "             \n",
    "# displaying the table in the desecding order accordding to the score...only 10 values/rows are displyed\n",
    "df = df.sort_values(['score'], ascending=False)\n",
    "df.head(n=10)"
   ]
  },
  {
   "cell_type": "markdown",
   "metadata": {},
   "source": [
    "## encoding & decoding using ceaser cipher"
   ]
  },
  {
   "cell_type": "markdown",
   "metadata": {
    "collapsed": true
   },
   "source": [
    "### Encoding:"
   ]
  },
  {
   "cell_type": "code",
   "execution_count": 25,
   "metadata": {
    "collapsed": true
   },
   "outputs": [],
   "source": [
    "def encode(text, k):\n",
    "    table = dict(zip(map(ord, string.ascii_lowercase),\n",
    "                              string.ascii_lowercase[k:] + string.ascii_lowercase[:k]))\n",
    "    return text.translate(table)"
   ]
  },
  {
   "cell_type": "code",
   "execution_count": 26,
   "metadata": {
    "scrolled": true
   },
   "outputs": [
    {
     "name": "stdout",
     "output_type": "stream",
     "text": [
      "lcddgtyqema\n",
      "\n",
      "     vycu dtknnki cpf vjg unkvja vqxgu\n",
      "      fkf iatg cpf ikodng kp vjg ycdg\n",
      "     cnn okoua ygtg vjg dqtqiqxgu\n",
      "      cpf vjg oqog tcvju qwvitcdg\n",
      "\n",
      "     dgyctg vjg lcddgtyqem oa uqp\n",
      "      vjg lcyu vjcv dkvg vjg encyu vjcv ecvej\n",
      "     dgyctg vjg lwdlwd dktf cpf ujwp\n",
      "      vjg htwokqwu dcpfgtupcvej\n",
      "\n",
      "     jg vqqm jku xqtrcn uyqtf kp jcpf\n",
      "      nqpi vkog vjg ocpzqog hqg jg uqwijv\n",
      "     uq tguvgf jg da vjg vwovwo vtgg\n",
      "      cpf uvqqf cyjkng kp vjqwijv\n",
      "\n",
      "     cpf cu kp whhkuj vjqwijv jg uvqqf\n",
      "      vjg lcddgtyqem ykvj gagu qh hncog\n",
      "     ecog yjkhhnkpi vjtqwij vjg vwniga yqqf\n",
      "      cpf dwtdngf cu kv ecog\n",
      "\n",
      "     qpg vyq qpg vyq cpf vjtqwij cpf vjtqwij\n",
      "      vjg xqtrcn dncfg ygpv upkemgtupcem\n",
      "     jg nghv kv fgcf cpf ykvj kvu jgcf\n",
      "      jg ygpv icnworjkpi dcem\n",
      "\n",
      "     cpf jcuv vjqw unckp vjg lcddgtyqem\n",
      "      eqog vq oa ctou oa dgcokuj dqa\n",
      "     q htcdlqwu fca ecnnqqj ecnnca\n",
      "      jg ejqtvngf kp jku lqa\n",
      "\n",
      "     vycu dtknnki cpf vjg unkvja vqxgu\n",
      "      fkf iatg cpf ikodng kp vjg ycdg\n",
      "     cnn okoua ygtg vjg dqtqiqxgu\n",
      "      cpf vjg oqog tcvju qwvitcdg\n",
      "\n",
      "\n",
      "\n"
     ]
    }
   ],
   "source": [
    "cipher = encode(poem, 2)  #all characters moved 2 characters right...a->c, j->l, b->d, etc.\n",
    "print(cipher)"
   ]
  },
  {
   "cell_type": "markdown",
   "metadata": {},
   "source": [
    "### decoding:"
   ]
  },
  {
   "cell_type": "code",
   "execution_count": 27,
   "metadata": {
    "scrolled": true
   },
   "outputs": [
    {
     "name": "stdout",
     "output_type": "stream",
     "text": [
      "jabberwocky\n",
      "\n",
      "     twas brillig and the slithy toves\n",
      "      did gyre and gimble in the wabe\n",
      "     all mimsy were the borogoves\n",
      "      and the mome raths outgrabe\n",
      "\n",
      "     beware the jabberwock my son\n",
      "      the jaws that bite the claws that catch\n",
      "     beware the jubjub bird and shun\n",
      "      the frumious bandersnatch\n",
      "\n",
      "     he took his vorpal sword in hand\n",
      "      long time the manxome foe he sought\n",
      "     so rested he by the tumtum tree\n",
      "      and stood awhile in thought\n",
      "\n",
      "     and as in uffish thought he stood\n",
      "      the jabberwock with eyes of flame\n",
      "     came whiffling through the tulgey wood\n",
      "      and burbled as it came\n",
      "\n",
      "     one two one two and through and through\n",
      "      the vorpal blade went snickersnack\n",
      "     he left it dead and with its head\n",
      "      he went galumphing back\n",
      "\n",
      "     and hast thou slain the jabberwock\n",
      "      come to my arms my beamish boy\n",
      "     o frabjous day callooh callay\n",
      "      he chortled in his joy\n",
      "\n",
      "     twas brillig and the slithy toves\n",
      "      did gyre and gimble in the wabe\n",
      "     all mimsy were the borogoves\n",
      "      and the mome raths outgrabe\n",
      "\n",
      "\n",
      "\n"
     ]
    }
   ],
   "source": [
    "recovered = encode(cipher, -2) # just the opposite, need to go left...so minus 2\n",
    "print(recovered)"
   ]
  },
  {
   "cell_type": "markdown",
   "metadata": {},
   "source": [
    "## Using regular expressions (not clear still)\n",
    "### see this : https://docs.python.org/3/howto/regex.html"
   ]
  },
  {
   "cell_type": "markdown",
   "metadata": {},
   "source": [
    "### Find all words with a sequence of two or more identical letters e.g. “look” : "
   ]
  },
  {
   "cell_type": "code",
   "execution_count": 28,
   "metadata": {},
   "outputs": [
    {
     "name": "stdout",
     "output_type": "stream",
     "text": [
      "b jabberwocky\n",
      "l brillig\n",
      "l all\n",
      "b jabberwock\n",
      "o took\n",
      "e tree\n",
      "o stood\n",
      "f uffish\n",
      "o stood\n",
      "b jabberwock\n",
      "f whiffling\n",
      "o wood\n",
      "b jabberwock\n",
      "o callooh\n",
      "l callay\n",
      "l brillig\n",
      "l all\n"
     ]
    }
   ],
   "source": [
    "# in \"look\" there are 2 \"o\"s....so its a required word\n",
    "import re\n",
    "regex = re.compile(r'(\\w*(\\w)\\2+\\w*)', re.IGNORECASE | re.MULTILINE)\n",
    "\n",
    "for match in regex.finditer(poem):\n",
    "    print(match.group(2), match.group(1))"
   ]
  },
  {
   "cell_type": "markdown",
   "metadata": {},
   "source": [
    "### Convert the identical sequences to uppercase:"
   ]
  },
  {
   "cell_type": "code",
   "execution_count": 29,
   "metadata": {
    "scrolled": true
   },
   "outputs": [
    {
     "name": "stdout",
     "output_type": "stream",
     "text": [
      "jaBBerwocky\n",
      "\n",
      "     twas briLLig and the slithy toves\n",
      "      did gyre and gimble in the wabe\n",
      "     aLL mimsy were the borogoves\n",
      "      and the mome raths outgrabe\n",
      "\n",
      "     beware the jaBBerwock my son\n",
      "      the jaws that bite the claws that catch\n",
      "     beware the jubjub bird and shun\n",
      "      the frumious bandersnatch\n",
      "\n",
      "     he tOOk his vorpal sword in hand\n",
      "      long time the manxome foe he sought\n",
      "     so rested he by the tumtum trEE\n",
      "      and stOOd awhile in thought\n",
      "\n",
      "     and as in uFFish thought he stOOd\n",
      "      the jaBBerwock with eyes of flame\n",
      "     came whiFFling through the tulgey wOOd\n",
      "      and burbled as it came\n",
      "\n",
      "     one two one two and through and through\n",
      "      the vorpal blade went snickersnack\n",
      "     he left it dead and with its head\n",
      "      he went galumphing back\n",
      "\n",
      "     and hast thou slain the jaBBerwock\n",
      "      come to my arms my beamish boy\n",
      "     o frabjous day callOOh caLLay\n",
      "      he chortled in his joy\n",
      "\n",
      "     twas briLLig and the slithy toves\n",
      "      did gyre and gimble in the wabe\n",
      "     aLL mimsy were the borogoves\n",
      "      and the mome raths outgrabe\n",
      "\n",
      "\n",
      "\n"
     ]
    }
   ],
   "source": [
    "def f(match):\n",
    "    word, letter = match.groups()\n",
    "    return word.replace(letter, letter.upper())\n",
    "\n",
    "print(regex.sub(f, poem))"
   ]
  },
  {
   "cell_type": "markdown",
   "metadata": {},
   "source": [
    "## Natural Language processing"
   ]
  },
  {
   "cell_type": "markdown",
   "metadata": {},
   "source": [
    "### NLTK documents : http://www.nltk.org/"
   ]
  },
  {
   "cell_type": "markdown",
   "metadata": {},
   "source": [
    "### If you intend to perform statistical analysis on natural language, you should probably use NLTK to pre-process the text instead of using string methods and regular expressions. For example, a simple challenge is to first parse the paragraph below into sentences, then parse each sentence into words."
   ]
  },
  {
   "cell_type": "code",
   "execution_count": 30,
   "metadata": {
    "collapsed": true
   },
   "outputs": [],
   "source": [
    "# from paragraph to sentence and then into words\n",
    "para = \"\"\"When compared with the control group no significant associations were found for the NS-PEecl group after adjustment of confounding variables. For the S-PEecl group, antiβ2GP1 IgG (OR 16.91, 95% CI 3.71-77.06) was associated, as well as age, obesity, smoking and multiparity. Antiβ2GP1-domain I IgG were associated with aCL, antiβ2GP1 and aPS/PT IgG in the three groups. aPS/PT IgG were associated with aCL IgG, and aPS/PT IgM were associated with aCL and antiβ2GP1 IgM in the three groups CONCLUSION: S-PEecl is a distinct entity from NS-PEecl and is mainly associated with the presence of antiβ2GP1 IgG. Antiβ2GP1 domain I correlate with other aPL IgG tests, and aPS/PT may be promising in patients in which LA tests cannot be interpreted.\"\"\""
   ]
  },
  {
   "cell_type": "markdown",
   "metadata": {},
   "source": [
    "### Naive splitting of sentences as anything separated by ., ! or ?"
   ]
  },
  {
   "cell_type": "code",
   "execution_count": 31,
   "metadata": {
    "collapsed": true
   },
   "outputs": [],
   "source": [
    "sep = re.compile(r'[\\.\\?\\!]')"
   ]
  },
  {
   "cell_type": "code",
   "execution_count": 32,
   "metadata": {
    "collapsed": true
   },
   "outputs": [],
   "source": [
    "ss = sep.split(para)"
   ]
  },
  {
   "cell_type": "code",
   "execution_count": 33,
   "metadata": {},
   "outputs": [
    {
     "name": "stdout",
     "output_type": "stream",
     "text": [
      "1 : When compared with the control group no significant associations were found for the NS-PEecl group after adjustment of confounding variables\n",
      "\n",
      "2 :  For the S-PEecl group, antiβ2GP1 IgG (OR 16\n",
      "\n",
      "3 : 91, 95% CI 3\n",
      "\n",
      "4 : 71-77\n",
      "\n",
      "5 : 06) was associated, as well as age, obesity, smoking and multiparity\n",
      "\n",
      "6 :  Antiβ2GP1-domain I IgG were associated with aCL, antiβ2GP1 and aPS/PT IgG in the three groups\n",
      "\n",
      "7 :  aPS/PT IgG were associated with aCL IgG, and aPS/PT IgM were associated with aCL and antiβ2GP1 IgM in the three groups CONCLUSION: S-PEecl is a distinct entity from NS-PEecl and is mainly associated with the presence of antiβ2GP1 IgG\n",
      "\n",
      "8 :  Antiβ2GP1 domain I correlate with other aPL IgG tests, and aPS/PT may be promising in patients in which LA tests cannot be interpreted\n",
      "\n",
      "9 : \n",
      "\n"
     ]
    }
   ],
   "source": [
    "for i, s in enumerate(ss, 1):\n",
    "    print(i, ':', s, end='\\n\\n')"
   ]
  },
  {
   "cell_type": "markdown",
   "metadata": {},
   "source": [
    "### Using NLTK:"
   ]
  },
  {
   "cell_type": "code",
   "execution_count": 35,
   "metadata": {},
   "outputs": [
    {
     "name": "stdout",
     "output_type": "stream",
     "text": [
      "showing info https://raw.githubusercontent.com/nltk/nltk_data/gh-pages/index.xml\n"
     ]
    },
    {
     "data": {
      "text/plain": [
       "True"
      ]
     },
     "execution_count": 35,
     "metadata": {},
     "output_type": "execute_result"
    }
   ],
   "source": [
    "nltk.download()"
   ]
  },
  {
   "cell_type": "code",
   "execution_count": 37,
   "metadata": {},
   "outputs": [
    {
     "name": "stdout",
     "output_type": "stream",
     "text": [
      "1 : When compared with the control group no significant associations were found for the NS-PEecl group after adjustment of confounding variables.\n",
      "\n",
      "2 : For the S-PEecl group, antiβ2GP1 IgG (OR 16.91, 95% CI 3.71-77.06) was associated, as well as age, obesity, smoking and multiparity.\n",
      "\n",
      "3 : Antiβ2GP1-domain I IgG were associated with aCL, antiβ2GP1 and aPS/PT IgG in the three groups.\n",
      "\n",
      "4 : aPS/PT IgG were associated with aCL IgG, and aPS/PT IgM were associated with aCL and antiβ2GP1 IgM in the three groups CONCLUSION: S-PEecl is a distinct entity from NS-PEecl and is mainly associated with the presence of antiβ2GP1 IgG.\n",
      "\n",
      "5 : Antiβ2GP1 domain I correlate with other aPL IgG tests, and aPS/PT may be promising in patients in which LA tests cannot be interpreted.\n",
      "\n"
     ]
    }
   ],
   "source": [
    "import nltk\n",
    "ss_nltk = nltk.sent_tokenize(para)\n",
    "for i, s in enumerate(ss_nltk, 1):\n",
    "    print(i, ':', s, end='\\n\\n')"
   ]
  },
  {
   "cell_type": "markdown",
   "metadata": {},
   "source": [
    "### Naive parsing of the second sentence into words:"
   ]
  },
  {
   "cell_type": "code",
   "execution_count": 38,
   "metadata": {},
   "outputs": [
    {
     "data": {
      "text/plain": [
       "'For the S-PEecl group, antiβ2GP1 IgG (OR 16.91, 95% CI 3.71-77.06) was associated, as well as age, obesity, smoking and multiparity.'"
      ]
     },
     "execution_count": 38,
     "metadata": {},
     "output_type": "execute_result"
    }
   ],
   "source": [
    "s = ss_nltk[1]\n",
    "s"
   ]
  },
  {
   "cell_type": "code",
   "execution_count": 39,
   "metadata": {},
   "outputs": [
    {
     "data": {
      "text/plain": [
       "['For',\n",
       " 'the',\n",
       " 'SPEecl',\n",
       " 'group',\n",
       " 'antiβ2GP1',\n",
       " 'IgG',\n",
       " 'OR',\n",
       " '1691',\n",
       " '95',\n",
       " 'CI',\n",
       " '3717706',\n",
       " 'was',\n",
       " 'associated',\n",
       " 'as',\n",
       " 'well',\n",
       " 'as',\n",
       " 'age',\n",
       " 'obesity',\n",
       " 'smoking',\n",
       " 'and',\n",
       " 'multiparity']"
      ]
     },
     "execution_count": 39,
     "metadata": {},
     "output_type": "execute_result"
    }
   ],
   "source": [
    "# remove punctuation and split on whitespace...not using nltk\n",
    "table = dict.fromkeys(map(ord, string.punctuation))\n",
    "s.translate(table).split()"
   ]
  },
  {
   "cell_type": "code",
   "execution_count": 40,
   "metadata": {},
   "outputs": [
    {
     "data": {
      "text/plain": [
       "['For',\n",
       " 'the',\n",
       " 'S-PEecl',\n",
       " 'group',\n",
       " ',',\n",
       " 'antiβ2GP1',\n",
       " 'IgG',\n",
       " '(',\n",
       " 'OR',\n",
       " '16.91',\n",
       " ',',\n",
       " '95',\n",
       " '%',\n",
       " 'CI',\n",
       " '3.71-77.06',\n",
       " ')',\n",
       " 'was',\n",
       " 'associated',\n",
       " ',',\n",
       " 'as',\n",
       " 'well',\n",
       " 'as',\n",
       " 'age',\n",
       " ',',\n",
       " 'obesity',\n",
       " ',',\n",
       " 'smoking',\n",
       " 'and',\n",
       " 'multiparity',\n",
       " '.']"
      ]
     },
     "execution_count": 40,
     "metadata": {},
     "output_type": "execute_result"
    }
   ],
   "source": [
    "# remove punctuation and split on whitespace... using nltk\n",
    "text = nltk.word_tokenize(s)\n",
    "text"
   ]
  },
  {
   "cell_type": "markdown",
   "metadata": {},
   "source": [
    "### NLTK is a rich library for natural language processing. Tag tokens with part-of-speech labels:"
   ]
  },
  {
   "cell_type": "code",
   "execution_count": 59,
   "metadata": {},
   "outputs": [
    {
     "name": "stdout",
     "output_type": "stream",
     "text": [
      "[nltk_data] Downloading package averaged_perceptron_tagger to\n",
      "[nltk_data]     C:\\Users\\user\\AppData\\Roaming\\nltk_data...\n",
      "[nltk_data]   Unzipping taggers\\averaged_perceptron_tagger.zip.\n"
     ]
    },
    {
     "data": {
      "text/plain": [
       "True"
      ]
     },
     "execution_count": 59,
     "metadata": {},
     "output_type": "execute_result"
    }
   ],
   "source": [
    "import nltk\n",
    "nltk.download('averaged_perceptron_tagger')"
   ]
  },
  {
   "cell_type": "code",
   "execution_count": 60,
   "metadata": {},
   "outputs": [
    {
     "data": {
      "text/plain": [
       "[('For', 'IN'),\n",
       " ('the', 'DT'),\n",
       " ('S-PEecl', 'NNP'),\n",
       " ('group', 'NN'),\n",
       " (',', ','),\n",
       " ('antiβ2GP1', 'RB'),\n",
       " ('IgG', 'NNP'),\n",
       " ('(', '('),\n",
       " ('OR', 'NNP'),\n",
       " ('16.91', 'CD'),\n",
       " (',', ','),\n",
       " ('95', 'CD'),\n",
       " ('%', 'NN'),\n",
       " ('CI', 'NNP'),\n",
       " ('3.71-77.06', 'CD'),\n",
       " (')', ')'),\n",
       " ('was', 'VBD'),\n",
       " ('associated', 'VBN'),\n",
       " (',', ','),\n",
       " ('as', 'RB'),\n",
       " ('well', 'RB'),\n",
       " ('as', 'IN'),\n",
       " ('age', 'NN'),\n",
       " (',', ','),\n",
       " ('obesity', 'NN'),\n",
       " (',', ','),\n",
       " ('smoking', 'NN'),\n",
       " ('and', 'CC'),\n",
       " ('multiparity', 'NN'),\n",
       " ('.', '.')]"
      ]
     },
     "execution_count": 60,
     "metadata": {},
     "output_type": "execute_result"
    }
   ],
   "source": [
    "tagged_text = nltk.pos_tag(text)\n",
    "tagged_text"
   ]
  },
  {
   "cell_type": "code",
   "execution_count": 42,
   "metadata": {},
   "outputs": [
    {
     "data": {
      "text/plain": [
       "'For the S-PEecl group, antiβ2GP1 IgG (OR 16.91, 95% CI 3.71-77.06) was associated, as well as age, obesity, smoking and multiparity.'"
      ]
     },
     "execution_count": 42,
     "metadata": {},
     "output_type": "execute_result"
    }
   ],
   "source": [
    "s"
   ]
  },
  {
   "cell_type": "markdown",
   "metadata": {},
   "source": [
    "### A simplistic way to pick up nouns:"
   ]
  },
  {
   "cell_type": "code",
   "execution_count": 61,
   "metadata": {},
   "outputs": [
    {
     "data": {
      "text/plain": [
       "['S-PEecl',\n",
       " 'group',\n",
       " 'IgG',\n",
       " 'OR',\n",
       " '%',\n",
       " 'CI',\n",
       " 'age',\n",
       " 'obesity',\n",
       " 'smoking',\n",
       " 'multiparity']"
      ]
     },
     "execution_count": 61,
     "metadata": {},
     "output_type": "execute_result"
    }
   ],
   "source": [
    "[w for w, t in tagged_text if t.startswith('N')]"
   ]
  },
  {
   "cell_type": "markdown",
   "metadata": {},
   "source": [
    "## String Formatting"
   ]
  },
  {
   "cell_type": "markdown",
   "metadata": {},
   "source": [
    "### Selection:"
   ]
  },
  {
   "cell_type": "code",
   "execution_count": 44,
   "metadata": {},
   "outputs": [
    {
     "data": {
      "text/plain": [
       "'One: bun, Two shoe'"
      ]
     },
     "execution_count": 44,
     "metadata": {},
     "output_type": "execute_result"
    }
   ],
   "source": [
    "import math\n",
    "stuff = ('bun', 'shoe', ['bee', 'door'], 2, math.pi, 0.05) #declaring a list of anything\n",
    "'One: {}, Two {}'.format(*stuff) # printing out this list in the given format...it is default not to give any index"
   ]
  },
  {
   "cell_type": "code",
   "execution_count": 45,
   "metadata": {},
   "outputs": [
    {
     "data": {
      "text/plain": [
       "'One: bun, Two shoe'"
      ]
     },
     "execution_count": 45,
     "metadata": {},
     "output_type": "execute_result"
    }
   ],
   "source": [
    "'One: {0}, Two {1}'.format(*stuff)  # indexing introduced in printing"
   ]
  },
  {
   "cell_type": "code",
   "execution_count": 46,
   "metadata": {},
   "outputs": [
    {
     "data": {
      "text/plain": [
       "'One: shoe, Two shoe'"
      ]
     },
     "execution_count": 46,
     "metadata": {},
     "output_type": "execute_result"
    }
   ],
   "source": [
    "'One: {1}, Two {1}'.format(*stuff)  # same element is printed twice"
   ]
  },
  {
   "cell_type": "code",
   "execution_count": 47,
   "metadata": {},
   "outputs": [
    {
     "data": {
      "text/plain": [
       "'One: bun, Two door'"
      ]
     },
     "execution_count": 47,
     "metadata": {},
     "output_type": "execute_result"
    }
   ],
   "source": [
    "'One: {0}, Two {2[1]}'.format(*stuff)"
   ]
  },
  {
   "cell_type": "markdown",
   "metadata": {},
   "source": [
    "### Formatting:"
   ]
  },
  {
   "cell_type": "code",
   "execution_count": 48,
   "metadata": {},
   "outputs": [
    {
     "data": {
      "text/plain": [
       "'One:    bun    , Two ___________shoe'"
      ]
     },
     "execution_count": 48,
     "metadata": {},
     "output_type": "execute_result"
    }
   ],
   "source": [
    "'One: {0:^10s}, Two {1:_>15s}'.format(*stuff)  # more formats to print....^ > implies spaces"
   ]
  },
  {
   "cell_type": "code",
   "execution_count": 49,
   "metadata": {},
   "outputs": [
    {
     "data": {
      "text/plain": [
       "'One: 2, Two 3.141592653589793'"
      ]
     },
     "execution_count": 49,
     "metadata": {},
     "output_type": "execute_result"
    }
   ],
   "source": [
    "'One: {3}, Two {4}'.format(*stuff)"
   ]
  },
  {
   "cell_type": "code",
   "execution_count": 50,
   "metadata": {},
   "outputs": [
    {
     "data": {
      "text/plain": [
       "'One:         +2, Two 3.1416'"
      ]
     },
     "execution_count": 50,
     "metadata": {},
     "output_type": "execute_result"
    }
   ],
   "source": [
    "'One: {3:+10d}, Two {4:.4f}'.format(*stuff)    # 10 spaces until integer...& upto 4decimal points in the floating number"
   ]
  },
  {
   "cell_type": "code",
   "execution_count": 51,
   "metadata": {},
   "outputs": [
    {
     "data": {
      "text/plain": [
       "'One: 0002, Two 3.142'"
      ]
     },
     "execution_count": 51,
     "metadata": {},
     "output_type": "execute_result"
    }
   ],
   "source": [
    "'One: {3:04d}, Two {4:.4g}'.format(*stuff)     # 4 spaces, digit and rest are zeros...& 4 spaces of the total floating no."
   ]
  },
  {
   "cell_type": "code",
   "execution_count": 52,
   "metadata": {},
   "outputs": [
    {
     "data": {
      "text/plain": [
       "'One: 2.0000e+00, Two 3.1416e+00'"
      ]
     },
     "execution_count": 52,
     "metadata": {},
     "output_type": "execute_result"
    }
   ],
   "source": [
    "'One: {3:.4e}, Two {4:.4e}'.format(*stuff)     # both numbers in the form of e...both taking 4 spaces upto reaching e"
   ]
  },
  {
   "cell_type": "code",
   "execution_count": 53,
   "metadata": {},
   "outputs": [
    {
     "data": {
      "text/plain": [
       "'One: 5.00%, Two 0.050000'"
      ]
     },
     "execution_count": 53,
     "metadata": {},
     "output_type": "execute_result"
    }
   ],
   "source": [
    "'One: {5:.2%}, Two {5:f}'.format(*stuff)       # same number expressed as a %, upto 2 decimal places....& usual floating representation"
   ]
  },
  {
   "cell_type": "markdown",
   "metadata": {},
   "source": [
    "### Old formatting:"
   ]
  },
  {
   "cell_type": "code",
   "execution_count": 54,
   "metadata": {},
   "outputs": [
    {
     "data": {
      "text/plain": [
       "\"bun, shoe, ['bee', 'door'], 2, 3.1416, 0.05\""
      ]
     },
     "execution_count": 54,
     "metadata": {},
     "output_type": "execute_result"
    }
   ],
   "source": [
    "'%s, %s, %a, %d, %.4f, %.2f' % stuff           # old python style formatting"
   ]
  },
  {
   "cell_type": "markdown",
   "metadata": {},
   "source": [
    "### Formatting numpy arrays:"
   ]
  },
  {
   "cell_type": "code",
   "execution_count": 55,
   "metadata": {},
   "outputs": [
    {
     "data": {
      "text/plain": [
       "array([[ 1,  2,  3,  4],\n",
       "       [ 5,  6,  7,  8],\n",
       "       [ 9, 10, 11, 12]])"
      ]
     },
     "execution_count": 55,
     "metadata": {},
     "output_type": "execute_result"
    }
   ],
   "source": [
    "import numpy as np\n",
    "# building a 2d array matrix of 3rows, 4 columns....all positions may contain from 1 to 12 inclusive\n",
    "x = np.arange(1, 13).reshape(3,4)\n",
    "x"
   ]
  },
  {
   "cell_type": "code",
   "execution_count": 57,
   "metadata": {},
   "outputs": [
    {
     "data": {
      "text/plain": [
       "array([[    1.00,     2.00,     3.00,     4.00],\n",
       "       [    5.00,     6.00,     7.00,     8.00],\n",
       "       [    9.00,    10.00,    11.00,    12.00]])"
      ]
     },
     "execution_count": 57,
     "metadata": {},
     "output_type": "execute_result"
    }
   ],
   "source": [
    "# changing the numbers to float representations upto 2 decimals places...replacing each using %8.2f...\n",
    "np.set_printoptions(formatter={'int': lambda x: '%8.2f' % x})\n",
    "x"
   ]
  },
  {
   "cell_type": "code",
   "execution_count": 58,
   "metadata": {},
   "outputs": [
    {
     "data": {
      "text/plain": [
       "array([[ 1,  2,  3,  4],\n",
       "       [ 5,  6,  7,  8],\n",
       "       [ 9, 10, 11, 12]])"
      ]
     },
     "execution_count": 58,
     "metadata": {},
     "output_type": "execute_result"
    }
   ],
   "source": [
    "# using set_printoptions() without any parameters to printout as default original values of the array\n",
    "np.set_printoptions()\n",
    "x"
   ]
  },
  {
   "cell_type": "code",
   "execution_count": null,
   "metadata": {
    "collapsed": true
   },
   "outputs": [],
   "source": []
  }
 ],
 "metadata": {
  "kernelspec": {
   "display_name": "Python 3",
   "language": "python",
   "name": "python3"
  },
  "language_info": {
   "codemirror_mode": {
    "name": "ipython",
    "version": 3
   },
   "file_extension": ".py",
   "mimetype": "text/x-python",
   "name": "python",
   "nbconvert_exporter": "python",
   "pygments_lexer": "ipython3",
   "version": "3.6.1"
  }
 },
 "nbformat": 4,
 "nbformat_minor": 2
}
